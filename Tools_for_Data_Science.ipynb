{
  "nbformat": 4,
  "nbformat_minor": 0,
  "metadata": {
    "colab": {
      "provenance": []
    },
    "kernelspec": {
      "name": "python3",
      "display_name": "Python 3"
    },
    "language_info": {
      "name": "python"
    }
  },
  "cells": [
    {
      "cell_type": "markdown",
      "source": [
        "# Final Project: Tools for Data Science"
      ],
      "metadata": {
        "id": "-AqU3DrSjNZm"
      }
    },
    {
      "cell_type": "markdown",
      "source": [
        "## Introduction  \n",
        "This notebook demonstrates key concepts of data science including languages, tools, libraries, basic arithmetic operations, and markdown formatting.\n"
      ],
      "metadata": {
        "id": "wp-sEP82jTiE"
      }
    },
    {
      "cell_type": "markdown",
      "source": [
        "### Data Science Languages  \n",
        "- Python  \n",
        "- R  \n",
        "- SQL  \n",
        "- Julia  \n",
        "- Scala  \n"
      ],
      "metadata": {
        "id": "YGiNNmhHjjQm"
      }
    },
    {
      "cell_type": "markdown",
      "source": [
        "### Data Science Libraries  \n",
        "- Pandas  \n",
        "- NumPy  \n",
        "- Matplotlib  \n",
        "- Scikit-learn  \n",
        "- TensorFlow  \n"
      ],
      "metadata": {
        "id": "ncBppYfEjptU"
      }
    },
    {
      "cell_type": "markdown",
      "source": [
        "### Data Science Tools  \n",
        "\n",
        "| Tool           | Purpose                     |\n",
        "|----------------|-----------------------------|\n",
        "| JupyterLab     | Notebook interface          |\n",
        "| RStudio        | R IDE for analytics         |\n",
        "| Apache Spark   | Big Data processing         |\n",
        "| Tableau        | Data visualization          |\n",
        "| GitHub         | Version control & sharing   |\n"
      ],
      "metadata": {
        "id": "YwQDpcN4jtk0"
      }
    },
    {
      "cell_type": "markdown",
      "source": [
        "### Examples of Arithmetic Expressions in Python\n",
        "Below are examples using basic arithmetic operations like addition and multiplication.\n"
      ],
      "metadata": {
        "id": "5ToZnz-rjqtd"
      }
    },
    {
      "cell_type": "code",
      "execution_count": 1,
      "metadata": {
        "colab": {
          "base_uri": "https://localhost:8080/"
        },
        "id": "STNDYhVCjGdp",
        "outputId": "482662e0-b326-4e50-a71f-a1e91de5f08d"
      },
      "outputs": [
        {
          "output_type": "execute_result",
          "data": {
            "text/plain": [
              "22"
            ]
          },
          "metadata": {},
          "execution_count": 1
        }
      ],
      "source": [
        "# Multiply and Add\n",
        "result = (5 * 3) + 7\n",
        "result\n"
      ]
    },
    {
      "cell_type": "code",
      "source": [
        "# Convert minutes to hours\n",
        "minutes = 150\n",
        "hours = minutes / 60\n",
        "hours\n"
      ],
      "metadata": {
        "colab": {
          "base_uri": "https://localhost:8080/"
        },
        "id": "Gi2L9XsGj0oM",
        "outputId": "ef4ca2eb-766f-4584-82bf-462fb23a65f3"
      },
      "execution_count": 2,
      "outputs": [
        {
          "output_type": "execute_result",
          "data": {
            "text/plain": [
              "2.5"
            ]
          },
          "metadata": {},
          "execution_count": 2
        }
      ]
    },
    {
      "cell_type": "markdown",
      "source": [
        "### Course Objectives  \n",
        "- Understand core data science concepts  \n",
        "- Identify key languages and libraries  \n",
        "- Perform basic arithmetic in Python  \n",
        "- Share notebooks via GitHub  \n"
      ],
      "metadata": {
        "id": "7TSBux-hj718"
      }
    },
    {
      "cell_type": "markdown",
      "source": [
        "**Author:** Al Rey Villagracia\n"
      ],
      "metadata": {
        "id": "kS_Nc4OMj_n0"
      }
    }
  ]
}